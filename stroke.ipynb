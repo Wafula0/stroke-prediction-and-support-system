{
 "cells": [
  {
   "cell_type": "code",
   "execution_count": 1,
   "metadata": {},
   "outputs": [],
   "source": [
    "import numpy as np\n",
    "import matplotlib.pyplot as plt\n",
    "import pandas as pd\n",
    "import seaborn as sns"
   ]
  },
  {
   "cell_type": "code",
   "execution_count": 14,
   "metadata": {},
   "outputs": [],
   "source": [
    "import mysql.connector\n",
    "conn = mysql.connector.connect(\n",
    "        database='strokeproject',\n",
    "        user='root',\n",
    "        password='nim001rod',\n",
    "        host='127.0.0.1',\n",
    "        port='3305'\n",
    "        \n",
    ")\n"
   ]
  },
  {
   "cell_type": "code",
   "execution_count": 19,
   "metadata": {},
   "outputs": [
    {
     "name": "stderr",
     "output_type": "stream",
     "text": [
      "C:\\Users\\Admin\\AppData\\Local\\Temp\\ipykernel_9584\\74272796.py:1: UserWarning: pandas only supports SQLAlchemy connectable (engine/connection) or database string URI or sqlite3 DBAPI2 connection. Other DBAPI2 objects are not tested. Please consider using SQLAlchemy.\n",
      "  data=pd.read_sql(\"SELECT * FROM healthrecords\",conn)\n"
     ]
    },
    {
     "data": {
      "text/html": [
       "<div>\n",
       "<style scoped>\n",
       "    .dataframe tbody tr th:only-of-type {\n",
       "        vertical-align: middle;\n",
       "    }\n",
       "\n",
       "    .dataframe tbody tr th {\n",
       "        vertical-align: top;\n",
       "    }\n",
       "\n",
       "    .dataframe thead th {\n",
       "        text-align: right;\n",
       "    }\n",
       "</style>\n",
       "<table border=\"1\" class=\"dataframe\">\n",
       "  <thead>\n",
       "    <tr style=\"text-align: right;\">\n",
       "      <th></th>\n",
       "      <th>id</th>\n",
       "      <th>Gender</th>\n",
       "      <th>Age</th>\n",
       "      <th>Hypertension</th>\n",
       "      <th>Heartdisease</th>\n",
       "      <th>Evermarried</th>\n",
       "      <th>Worktype</th>\n",
       "      <th>Residencetype</th>\n",
       "      <th>Glucoselevel</th>\n",
       "      <th>Bmi</th>\n",
       "      <th>Smokingstate</th>\n",
       "      <th>Strokestatus</th>\n",
       "    </tr>\n",
       "  </thead>\n",
       "  <tbody>\n",
       "    <tr>\n",
       "      <th>0</th>\n",
       "      <td>1</td>\n",
       "      <td>Male</td>\n",
       "      <td>22</td>\n",
       "      <td>gAAAAABn9XQ9hOK6VPsxG0TewnhtwJYC-67ZrY1A9WxQN_...</td>\n",
       "      <td>gAAAAABn9XQ-HAajUuSaKpvpNvcsO4jt_eaIRLCrGHP1Nv...</td>\n",
       "      <td>Yes</td>\n",
       "      <td>Private</td>\n",
       "      <td>Rural</td>\n",
       "      <td>gAAAAABn9XQ-RzdhEZT8f6VFvHVSjfKWML3J2mmbq_MSb9...</td>\n",
       "      <td>gAAAAABn9XQ-yNQiLuJaby0C9wEDAw4WX5T3u13CFU6m4y...</td>\n",
       "      <td>Formerly smoked</td>\n",
       "      <td>Yes</td>\n",
       "    </tr>\n",
       "    <tr>\n",
       "      <th>1</th>\n",
       "      <td>2</td>\n",
       "      <td>Male</td>\n",
       "      <td>25</td>\n",
       "      <td>gAAAAABn9jGcIUbFXLmIBSFmQQ1PH4Z74i_ik79sfNPn92...</td>\n",
       "      <td>gAAAAABn9jGca36nS3pjje_geyJS--zl-p85AQsQBSZL5p...</td>\n",
       "      <td>Yes</td>\n",
       "      <td>Private</td>\n",
       "      <td>Rural</td>\n",
       "      <td>gAAAAABn9jGcYjPAAo-k4tRdxc9AZwnZTl5GJvKrmJ7fVN...</td>\n",
       "      <td>gAAAAABn9jGc-_K0JFcpxsUBOnEdUch0gl483MTvR6eCeS...</td>\n",
       "      <td>Formerly smoked</td>\n",
       "      <td>Yes</td>\n",
       "    </tr>\n",
       "  </tbody>\n",
       "</table>\n",
       "</div>"
      ],
      "text/plain": [
       "   id Gender  Age                                       Hypertension  \\\n",
       "0   1   Male   22  gAAAAABn9XQ9hOK6VPsxG0TewnhtwJYC-67ZrY1A9WxQN_...   \n",
       "1   2   Male   25  gAAAAABn9jGcIUbFXLmIBSFmQQ1PH4Z74i_ik79sfNPn92...   \n",
       "\n",
       "                                        Heartdisease Evermarried Worktype  \\\n",
       "0  gAAAAABn9XQ-HAajUuSaKpvpNvcsO4jt_eaIRLCrGHP1Nv...         Yes  Private   \n",
       "1  gAAAAABn9jGca36nS3pjje_geyJS--zl-p85AQsQBSZL5p...         Yes  Private   \n",
       "\n",
       "  Residencetype                                       Glucoselevel  \\\n",
       "0         Rural  gAAAAABn9XQ-RzdhEZT8f6VFvHVSjfKWML3J2mmbq_MSb9...   \n",
       "1         Rural  gAAAAABn9jGcYjPAAo-k4tRdxc9AZwnZTl5GJvKrmJ7fVN...   \n",
       "\n",
       "                                                 Bmi     Smokingstate  \\\n",
       "0  gAAAAABn9XQ-yNQiLuJaby0C9wEDAw4WX5T3u13CFU6m4y...  Formerly smoked   \n",
       "1  gAAAAABn9jGc-_K0JFcpxsUBOnEdUch0gl483MTvR6eCeS...  Formerly smoked   \n",
       "\n",
       "  Strokestatus  \n",
       "0          Yes  \n",
       "1          Yes  "
      ]
     },
     "execution_count": 19,
     "metadata": {},
     "output_type": "execute_result"
    }
   ],
   "source": [
    "data=pd.read_sql(\"SELECT * FROM healthrecords\",conn)\n",
    "data\n"
   ]
  }
 ],
 "metadata": {
  "kernelspec": {
   "display_name": "Python 3.10.7 64-bit",
   "language": "python",
   "name": "python3"
  },
  "language_info": {
   "codemirror_mode": {
    "name": "ipython",
    "version": 3
   },
   "file_extension": ".py",
   "mimetype": "text/x-python",
   "name": "python",
   "nbconvert_exporter": "python",
   "pygments_lexer": "ipython3",
   "version": "3.10.7"
  },
  "orig_nbformat": 4,
  "vscode": {
   "interpreter": {
    "hash": "a42ccb73e7d9bfdf27e036f1d2b8b681e55fc0743cc5586bc2474d4a60f4b886"
   }
  }
 },
 "nbformat": 4,
 "nbformat_minor": 2
}
